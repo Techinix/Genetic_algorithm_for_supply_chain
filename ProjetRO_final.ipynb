{
  "cells": [
    {
      "cell_type": "markdown",
      "metadata": {
        "id": "t9vSkYO82tix"
      },
      "source": [
        "# **A Genetic Algorithm for Optimization Of Supply Chain Logistics Network**"
      ]
    },
    {
      "cell_type": "code",
      "execution_count": null,
      "metadata": {
        "id": "R0X3dyfb8dnb"
      },
      "outputs": [],
      "source": [
        "import numpy as np \n",
        "import random\n"
      ]
    },
    {
      "cell_type": "code",
      "execution_count": 118,
      "metadata": {
        "id": "2ne1AQLt1qKZ"
      },
      "outputs": [],
      "source": [
        "class parameters :\n",
        "  nb_plants = 2 # number of plants\n",
        "  nb_distrib = 2 # number of distributors\n",
        "  nb_retailers = 3 # number of retailers\n",
        "  N = 1000 # population size\n",
        "  p_c = 0.6 # crossover probability\n",
        "  p_m = 0.01 # mutation probability\n",
        "  pr = 1 # unit price\n"
      ]
    },
    {
      "cell_type": "code",
      "execution_count": 121,
      "metadata": {
        "colab": {
          "base_uri": "https://localhost:8080/"
        },
        "id": "_fDOH9lc3niP",
        "outputId": "e8a70b1d-62da-4abb-9fb8-d06e03e1686b"
      },
      "outputs": [
        {
          "name": "stdout",
          "output_type": "stream",
          "text": [
            "give capacity for plant n°0 :150000\n",
            "give capacity for plant n°1 :50000\n",
            "give demand for retailer n°0 :50000\n",
            "give demand for retailer n°1 :100000\n",
            "give demand for retailer n°2 :50000\n",
            "give shipement cost X0 0 : 0\n",
            "give shipement cost X0 1 : 5\n",
            "give shipement cost X1 0 : 4\n",
            "give shipement cost X1 1 : 2\n",
            "give shipement cost X0 0 : 3\n",
            "give shipement cost X0 1 : 4\n",
            "give shipement cost X0 2 : 5\n",
            "give shipement cost X1 0 : 2\n",
            "give shipement cost X1 1 : 1\n",
            "give shipement cost X1 2 : 2\n"
          ]
        }
      ],
      "source": [
        "#cost generation :\n",
        "\n",
        "def generate_capacity(k):\n",
        "  capacity=[]\n",
        "  for i in range(k):\n",
        "    c=int(input(\"give capacity for plant n°\"+str(i)+\" :\"))\n",
        "    capacity.append(c)\n",
        "  return capacity\n",
        "def generate_demand(i):\n",
        "  demand=[]\n",
        "  for k in range(i):\n",
        "    d=int(input(\"give demand for retailer n°\"+str(k)+\" :\"))\n",
        "    demand.append(d)\n",
        "  return demand\n",
        "def init_cost(k,j):\n",
        "  cost=np.empty(shape=(k, j), dtype=float)\n",
        "  for p in range(k):\n",
        "    for s in range(j):\n",
        "      cost[p][s]=int(input(\"give shipement cost X\"+str(p)+\" \"+str(s)+\" : \"))\n",
        "  return cost\n",
        "\n",
        "capacity=generate_capacity(parameters.nb_plants)\n",
        "\n",
        "demand=generate_demand(parameters.nb_retailers)\n",
        "\n",
        "cost_k_j=init_cost(parameters.nb_plants,parameters.nb_distrib)\n",
        "cost_j_i=init_cost(parameters.nb_distrib,parameters.nb_retailers)\n",
        "\n",
        "\n"
      ]
    },
    {
      "cell_type": "markdown",
      "metadata": {
        "id": "Tk7__BBi2sx4"
      },
      "source": [
        "# **Initialization function**"
      ]
    },
    {
      "cell_type": "code",
      "execution_count": 122,
      "metadata": {
        "id": "whDdQFn8Z8Jb"
      },
      "outputs": [],
      "source": [
        "def generate_chromosome():\n",
        "  plant_dist_weights = [0 for _ in range(parameters.nb_plants*parameters.nb_distrib)] \n",
        "  dist_stock = [0 for _ in range(parameters.nb_distrib)]\n",
        "  for plant in range(parameters.nb_plants):\n",
        "        plant_capacity=capacity[plant] \n",
        "        capacity_part = plant_capacity//(1000*parameters.nb_distrib)\n",
        "        while(not(plant_capacity==0)):\n",
        "          for dist in range(parameters.nb_distrib):\n",
        "            random_nb= np.random.randint(0,100*parameters.nb_distrib)\n",
        "            plant_dist_weights[plant*parameters.nb_distrib+dist]+= min(capacity_part * random_nb,plant_capacity)\n",
        "            dist_stock[dist]+=min(capacity_part * random_nb,plant_capacity)\n",
        "            plant_capacity-=min(capacity_part * random_nb,plant_capacity)\n",
        "  temp_demand=demand.copy()\n",
        "\n",
        "  dist_retail_weights = [0 for _ in range(parameters.nb_distrib*parameters.nb_retailers)]\n",
        "\n",
        "  dist_stock_over=False\n",
        "\n",
        "  for ret in range(parameters.nb_retailers):\n",
        "    ret_portion = temp_demand[ret] //(1000*parameters.nb_distrib)\n",
        "    dist_stock_over=False\n",
        "    while(not(temp_demand[ret]==0)):\n",
        "      for dist in range(parameters.nb_distrib):\n",
        "        if(dist_stock[dist]==0):\n",
        "          dist_stock_over=True\n",
        "        random_nb= np.random.randint(0,100*parameters.nb_distrib)\n",
        "        tmp = min(temp_demand[ret],min(ret_portion*random_nb,dist_stock[dist]))\n",
        "        dist_retail_weights[dist*parameters.nb_retailers+ret]+=tmp\n",
        "        temp_demand[ret]-=tmp\n",
        "        dist_stock[dist]-=tmp\n",
        "  if(not dist_stock_over):\n",
        "    for dist in range(parameters.nb_distrib):\n",
        "      if(dist_stock[dist]==0):\n",
        "        continue \n",
        "      else :\n",
        "        dist_portion = dist_stock[dist] //(100*parameters.nb_retailers)\n",
        "        \n",
        "        while(not(dist_stock[dist]==0)):\n",
        "          for ret in range(parameters.nb_retailers):\n",
        "            random_nb= np.random.randint(0,100*parameters.nb_retailers)\n",
        "            tmp = min(dist_portion*random_nb,dist_stock[dist])\n",
        "            dist_retail_weights[dist*parameters.nb_retailers+ret]+=tmp\n",
        "            dist_stock[dist]-=tmp\n",
        "\n",
        "    \n",
        "  chromosome = plant_dist_weights+dist_retail_weights \n",
        "\n",
        "  return chromosome"
      ]
    },
    {
      "cell_type": "code",
      "execution_count": 123,
      "metadata": {
        "id": "CQdFsAWb22df"
      },
      "outputs": [],
      "source": [
        "def init_population(N):\n",
        "  population=[generate_chromosome() for _ in range(N)]\n",
        "  return population\n"
      ]
    },
    {
      "cell_type": "code",
      "execution_count": 124,
      "metadata": {
        "id": "bbK_PO95jLzC"
      },
      "outputs": [],
      "source": [
        "def mutation(chromosome,k,j,i,pm):\n",
        "    for s in range(k):\n",
        "      r=np.random.random()\n",
        "      if r>pm :\n",
        "        x1=np.random.randint(s*j,s*j + j)\n",
        "        y1=np.random.randint(s*j,s*j + j)\n",
        "        l=chromosome[x1]\n",
        "        chromosome[x1]=chromosome[y1]\n",
        "        chromosome[y1]=l\n",
        "      r=np.random.random()\n",
        "      if r>pm :\n",
        "        x1=np.random.randint(s*j,s*j + j)\n",
        "        y1=np.random.randint(s*j,s*j + j)\n",
        "        if(not(x1==y1)):\n",
        "          l1=chromosome[x1]\n",
        "          chromosome[x1]/=2\n",
        "          chromosome[y1]+=l1/2\n",
        "    for s in range(j):\n",
        "      r=np.random.random()\n",
        "      if r>pm :\n",
        "        x1=np.random.randint(k*j+s*i,k*j+s*i + i)\n",
        "        y1=np.random.randint(k*j+s*i,k*j+s*i + i)\n",
        "        l=chromosome[x1]\n",
        "        chromosome[x1]=chromosome[y1]\n",
        "        chromosome[y1]=l\n",
        "      r=np.random.random()\n",
        "      if r>pm :\n",
        "        x1=np.random.randint(k*j+s*i,k*j+s*i + i)\n",
        "        y1=np.random.randint(k*j+s*i,k*j+s*i + i)\n",
        "        if(not(x1==y1)):\n",
        "          l1=chromosome[x1]\n",
        "          chromosome[x1]/=2\n",
        "          chromosome[y1]+=l1/2\n",
        "  \n",
        "  \n"
      ]
    },
    {
      "cell_type": "code",
      "execution_count": 125,
      "metadata": {
        "id": "zajVV6AxjVuv"
      },
      "outputs": [],
      "source": [
        "#Id matrice ligne contenant les demandes des retailers\n",
        "#C matrice ligne contenant les capacites des plants\n",
        "def feasible_mutation(chromosome,k,j,i,pm): \n",
        "  mutated_chromosome=chromosome.copy()\n",
        "  mutation(mutated_chromosome,k,j,i,pm)\n",
        "  #contraites des plants \n",
        "  for p in range(k):\n",
        "    X=0\n",
        "    for l in range(j):\n",
        "      X+=mutated_chromosome[l+p*j]\n",
        "    if X>capacity[p]: \n",
        "      return chromosome \n",
        "\n",
        "  #containtes des retailers\n",
        "  for r in range(i):\n",
        "    Y=0\n",
        "    for f in range(j):\n",
        "      Y+=mutated_chromosome[k*j+f*i+ r]\n",
        "    if Y<demand[r]:\n",
        "      return chromosome\n",
        "  \n",
        "\n",
        "  #contraites egalites\n",
        "  for d in range(j):\n",
        "    X=0\n",
        "    Y=0 \n",
        "    for s in range(0,j*k,j):\n",
        "      X+=mutated_chromosome[s+d]\n",
        "    for q in range(i):\n",
        "      Y+=mutated_chromosome[k*j+q+d*i]\n",
        "    if X!=Y:\n",
        "      return chromosome\n",
        "  \n",
        "  mutated_chromosome_fitness = fitness(mutated_chromosome,k,j,i,parameters.p_m)\n",
        "  chromosome_fitness = fitness(chromosome,k,j,i,parameters.p_m)\n",
        "  if (mutated_chromosome_fitness<chromosome_fitness):\n",
        "    return mutated_chromosome\n",
        "  else:\n",
        "    return chromosome\n",
        "    \n",
        "  "
      ]
    },
    {
      "cell_type": "code",
      "execution_count": 126,
      "metadata": {
        "id": "0tN-hp3QA6C-"
      },
      "outputs": [],
      "source": [
        "\n",
        "def fitness(chromosome,k,j,i,pr):\n",
        "  f=0\n",
        "  for p in range(k):\n",
        "    for s in range(j):\n",
        "      f+=chromosome[p*j+s]*(cost_k_j[p][s]+pr) \n",
        "  for p in range(j):\n",
        "    for s in range(i):\n",
        "      f+=chromosome[k*j + p*i + s]*cost_j_i[p][s] \n",
        "  return f\n",
        "\n",
        "def get_pr(f,chromosome,k,j,i):\n",
        "  part=0\n",
        "  for p in range(k):\n",
        "    for s in range(j):\n",
        "      part+=chromosome[p*j+s]*cost_k_j[p][s]\n",
        "  for p in range(j):\n",
        "    for s in range(i):\n",
        "      part+=chromosome[k*j + p*i + s]*cost_j_i[p][s] \n",
        "  dot_pr=0\n",
        "  for p in range(k):\n",
        "    for s in range(j):\n",
        "      dot_pr+=chromosome[p*j+s]\n",
        "  return (f-part)/dot_pr\n",
        "def tournament_selection(k,j,i,pr,population):\n",
        "  # list of fitness of each individual\n",
        "  fit = [fitness(x,k,j,i,pr) for x in population]\n",
        "  selected_parents=[]\n",
        "  \n",
        "  while(not(len(selected_parents)==2)):\n",
        "    ind_1,ind_2=np.random.randint(0,len(population)-1),np.random.randint(0,len(population)-1)\n",
        "    if(abs(ind_1-ind_2)>4 and abs(ind_1-ind_2)<0.1*parameters.N):\n",
        "      subset = population[min(ind_1,ind_2):max(ind_1,ind_2)]\n",
        "      sub_fit = fit[min(ind_1,ind_2):max(ind_1,ind_2)]\n",
        "      choice = np.argmin(sub_fit)\n",
        "      selected_parents.append(subset[choice])\n",
        "\n",
        "  return selected_parents\n",
        "\n",
        "def Crossover(parents,K,J,I):\n",
        "\n",
        "  child1 = parents[0][:K*J] + parents[1][K*J:]\n",
        "  child2 = parents[1][:K*J] + parents[0][K*J:]\n",
        "  \n",
        "  return [child1,child2]"
      ]
    },
    {
      "cell_type": "code",
      "execution_count": 127,
      "metadata": {
        "id": "BHZbbf3kvVFT"
      },
      "outputs": [],
      "source": [
        "def train_population(population,k,j,i,pc,pr):\n",
        "  new_population=[]\n",
        "  child_pop_size = int(pc*len(population))\n",
        "  child_pop=[]\n",
        "  cnt_not_found=0\n",
        "  while(not(len(child_pop)>child_pop_size)):\n",
        "    parents=tournament_selection(parameters.nb_plants,parameters.nb_distrib,parameters.nb_retailers,parameters.pr,population)\n",
        "    child1,child2=Crossover(parents,parameters.nb_plants,parameters.nb_distrib,parameters.nb_retailers)\n",
        "    if(child1==child2):\n",
        "      child1=feasible_mutation(child1,parameters.nb_plants,parameters.nb_distrib,parameters.nb_retailers,parameters.p_m)\n",
        "      if(child1 in child_pop):\n",
        "        cnt_not_found+=1\n",
        "      else:\n",
        "        child_pop.append(child1)\n",
        "    else :\n",
        "      child1,child2=feasible_mutation(child1,parameters.nb_plants,parameters.nb_distrib,parameters.nb_retailers,parameters.p_m),feasible_mutation(child2,parameters.nb_plants,parameters.nb_distrib,parameters.nb_retailers,parameters.p_m)\n",
        "      if(child1 in child_pop and child2 in child_pop):\n",
        "        cnt_not_found+=1\n",
        "      if(child1 not in child_pop):\n",
        "        child_pop.append(child1)\n",
        "      if(child2 not in child_pop):\n",
        "        child_pop.append(child2)\n",
        "      \n",
        "    if(cnt_not_found==50):\n",
        "      break\n",
        "    \n",
        "  \n",
        "  new_population+=population\n",
        "  new_population+=child_pop\n",
        "  new_pop_fitness =[fitness(x,k,j,i,pr) for x in new_population]\n",
        "\n",
        "  combined_list = list(zip(new_pop_fitness, new_population))\n",
        "  sorted_list = sorted(combined_list, reverse=False)\n",
        "  sorted_fitness, sorted_population = zip(*sorted_list)\n",
        "  return sorted_population[:parameters.N]"
      ]
    },
    {
      "cell_type": "code",
      "execution_count": 132,
      "metadata": {
        "id": "zCO6nxOMuoRP"
      },
      "outputs": [],
      "source": [
        "def generate_best_solution(nb_gens):\n",
        "  population = init_population(parameters.N)\n",
        "  init_fit=[fitness(x,parameters.nb_plants,parameters.nb_distrib,parameters.nb_retailers,parameters.pr) for x in population]\n",
        "  print(\"initial minimal fitness\",min(init_fit))\n",
        "  best_pop=[]\n",
        "  best_fit=100000000\n",
        "  for i in range(nb_gens):\n",
        "    print(\"Training generation n°: \"+str(i))\n",
        "    population=train_population(population,parameters.nb_plants,parameters.nb_distrib,parameters.nb_retailers,parameters.p_c,parameters.pr)\n",
        "    fit = [fitness(x,parameters.nb_plants,parameters.nb_distrib,parameters.nb_retailers,parameters.pr) for x in population]\n",
        "    cur_best = np.argmin(fit)\n",
        "    if(fit[cur_best]<best_fit):\n",
        "      best_fit=fit[cur_best]\n",
        "      best_pop=population[cur_best]\n",
        "      print(\"current best sol: \"+str(best_fit))\n",
        "    #display(population)\n",
        "  \n",
        "  return best_pop,best_fit"
      ]
    },
    {
      "cell_type": "code",
      "execution_count": null,
      "metadata": {
        "colab": {
          "base_uri": "https://localhost:8080/"
        },
        "id": "qtxjm3jk4IEU",
        "outputId": "d478ab11-6b14-4a85-c058-8171db75fe44"
      },
      "outputs": [
        {
          "name": "stdout",
          "output_type": "stream",
          "text": [
            "initial minimal fitness 1169275.0\n",
            "Training generation n°: 0\n",
            "current best sol: 1084625.0\n",
            "Training generation n°: 1\n",
            "current best sol: 1044050.0\n",
            "Training generation n°: 2\n",
            "Training generation n°: 3\n",
            "Training generation n°: 4\n",
            "Training generation n°: 5\n",
            "Training generation n°: 6\n",
            "Training generation n°: 7\n",
            "Training generation n°: 8\n",
            "Training generation n°: 9\n",
            "Training generation n°: 10\n",
            "Training generation n°: 11\n",
            "Training generation n°: 12\n",
            "Training generation n°: 13\n",
            "Training generation n°: 14\n",
            "Training generation n°: 15\n",
            "Training generation n°: 16\n",
            "Training generation n°: 17\n",
            "Training generation n°: 18\n",
            "Training generation n°: 19\n",
            "Training generation n°: 20\n",
            "Training generation n°: 21\n",
            "Training generation n°: 22\n",
            "Training generation n°: 23\n",
            "Training generation n°: 24\n",
            "Training generation n°: 25\n",
            "Training generation n°: 26\n",
            "Training generation n°: 27\n",
            "Training generation n°: 28\n",
            "Training generation n°: 29\n",
            "Training generation n°: 30\n",
            "Training generation n°: 31\n",
            "Training generation n°: 32\n",
            "Training generation n°: 33\n",
            "Training generation n°: 34\n",
            "Training generation n°: 35\n",
            "Training generation n°: 36\n",
            "Training generation n°: 37\n",
            "Training generation n°: 38\n",
            "Training generation n°: 39\n",
            "Training generation n°: 40\n",
            "Training generation n°: 41\n",
            "Training generation n°: 42\n",
            "Training generation n°: 43\n",
            "Training generation n°: 44\n",
            "Training generation n°: 45\n",
            "Training generation n°: 46\n",
            "Training generation n°: 47\n",
            "Training generation n°: 48\n",
            "Training generation n°: 49\n",
            "Training generation n°: 50\n",
            "Training generation n°: 51\n",
            "Training generation n°: 52\n",
            "Training generation n°: 53\n",
            "Training generation n°: 54\n",
            "Training generation n°: 55\n",
            "Training generation n°: 56\n",
            "Training generation n°: 57\n",
            "Training generation n°: 58\n",
            "Training generation n°: 59\n",
            "Training generation n°: 60\n",
            "Training generation n°: 61\n",
            "Training generation n°: 62\n",
            "Training generation n°: 63\n",
            "Training generation n°: 64\n",
            "Training generation n°: 65\n",
            "Training generation n°: 66\n",
            "Training generation n°: 67\n",
            "Training generation n°: 68\n",
            "Training generation n°: 69\n",
            "Training generation n°: 70\n",
            "Training generation n°: 71\n"
          ]
        }
      ],
      "source": [
        "generate_best_solution(1000)"
      ]
    },
    {
      "cell_type": "code",
      "execution_count": null,
      "metadata": {
        "id": "V4gtAiq1KdYY"
      },
      "outputs": [],
      "source": []
    }
  ],
  "metadata": {
    "colab": {
      "provenance": []
    },
    "kernelspec": {
      "display_name": "Python 3",
      "name": "python3"
    },
    "language_info": {
      "name": "python"
    }
  },
  "nbformat": 4,
  "nbformat_minor": 0
}
